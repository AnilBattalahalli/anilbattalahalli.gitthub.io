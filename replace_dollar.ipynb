{
 "cells": [
  {
   "cell_type": "code",
   "execution_count": 16,
   "metadata": {},
   "outputs": [],
   "source": [
    "special_chars = [\"\\a\", \"\\b\", \"\\v\", \"\\f\", \"\\r\"]\n",
    "replace_chars = [\"\\\\a\", \"\\\\b\", \"\\\\v\", \"\\\\f\", \"\\\\r\"]"
   ]
  },
  {
   "cell_type": "code",
   "execution_count": 22,
   "metadata": {},
   "outputs": [],
   "source": [
    "def replace_dollar(text):\n",
    "  \"\"\"Replaces every odd occurrence of $ with A and every even occurrence of $ with B in a string, ignoring special characters.\n",
    "\n",
    "  Args:\n",
    "      text: The string to be processed.\n",
    "\n",
    "  Returns:\n",
    "      The modified string with dollar signs replaced.\n",
    "  \"\"\"\n",
    "  new_text = \"\"\n",
    "  count = 1\n",
    "  for char in text:\n",
    "    if char == \"$\" and char not in special_chars:  # Skip processing special characters\n",
    "      new_text += \"\\\\\\( \" if count % 2 == 1 else \" \\\\\\)\"\n",
    "      count += 1\n",
    "    else:\n",
    "      new_text += char\n",
    "  return new_text"
   ]
  },
  {
   "cell_type": "code",
   "execution_count": 74,
   "metadata": {},
   "outputs": [],
   "source": [
    "with open(\"./replacestring.txt\", \"r\") as infile:\n",
    "    str_dogshit = infile.read()"
   ]
  },
  {
   "cell_type": "code",
   "execution_count": 75,
   "metadata": {},
   "outputs": [
    {
     "data": {
      "text/plain": [
       "'The simulation discussed above is implemented in R. For each case, the same samples are used, which are drawn from the distribution with the true parameters using Accept-Reject sampling. We generate 355 samples from the distribution with the true parameters, $\\\\alpha=2.2$, $\\\\lambda=0.3$, and $\\\\xmin=1.1$, and use the same for inference in the three cases discussed above. In each of the three cases, the Metropolis-Hasting algorithm was used to draw 1000 samples ${\\\\boldsymbol{\\\\phi}^{[1]}, \\\\boldsymbol{\\\\phi}^{[2]} \\\\dots \\\\boldsymbol{\\\\phi}^{[1000]}}$ from the posterior, and $\\\\hat{\\\\boldsymbol{\\\\phi}} = \\\\text{argmax}_{\\\\boldsymbol{\\\\phi}} \\\\ p(\\\\boldphi \\\\ | \\\\ \\\\mathcal{D})$ is calculated, where, $\\\\mathcal{D}$ is the sample generated from the distribution with known true parameters. This is repeated 100 times to calculate the estimate ($\\\\hat{\\\\boldsymbol{\\\\phi}}$) at each iteration.'"
      ]
     },
     "execution_count": 75,
     "metadata": {},
     "output_type": "execute_result"
    }
   ],
   "source": [
    "str_dogshit"
   ]
  },
  {
   "cell_type": "code",
   "execution_count": 76,
   "metadata": {},
   "outputs": [
    {
     "name": "stdout",
     "output_type": "stream",
     "text": [
      "The simulation discussed above is implemented in R. For each case, the same samples are used, which are drawn from the distribution with the true parameters using Accept-Reject sampling. We generate 355 samples from the distribution with the true parameters, \\\\( \\alpha=2.2 \\\\), \\\\( \\lambda=0.3 \\\\), and \\\\( \\xmin=1.1 \\\\), and use the same for inference in the three cases discussed above. In each of the three cases, the Metropolis-Hasting algorithm was used to draw 1000 samples \\\\( {\\boldsymbol{\\phi}^{[1]}, \\boldsymbol{\\phi}^{[2]} \\dots \\boldsymbol{\\phi}^{[1000]}} \\\\) from the posterior, and \\\\( \\hat{\\boldsymbol{\\phi}} = \\text{argmax}_{\\boldsymbol{\\phi}} \\ p(\\boldphi \\ | \\ \\mathcal{D}) \\\\) is calculated, where, \\\\( \\mathcal{D} \\\\) is the sample generated from the distribution with known true parameters. This is repeated 100 times to calculate the estimate (\\\\( \\hat{\\boldsymbol{\\phi}} \\\\)) at each iteration.\n"
     ]
    }
   ],
   "source": [
    "print(replace_dollar(str_dogshit))"
   ]
  }
 ],
 "metadata": {
  "kernelspec": {
   "display_name": "base",
   "language": "python",
   "name": "python3"
  },
  "language_info": {
   "codemirror_mode": {
    "name": "ipython",
    "version": 3
   },
   "file_extension": ".py",
   "mimetype": "text/x-python",
   "name": "python",
   "nbconvert_exporter": "python",
   "pygments_lexer": "ipython3",
   "version": "3.9.5"
  }
 },
 "nbformat": 4,
 "nbformat_minor": 2
}
